{
 "cells": [
  {
   "cell_type": "markdown",
   "metadata": {},
   "source": [
    "# Ice Out Dates"
   ]
  },
  {
   "cell_type": "markdown",
   "metadata": {},
   "source": [
    "Records of 'ice-out' and 'ice-in' days on selected Minnesota lakes are available from the Minnesota DNR at their web site [Ice Out Dates](http://www.dnr.state.mn.us/ice_out/index.html). The customs for determining ice-out and ice-in vary from lake to lake, so it's difficult to compare across different lakes. The DNR does attempt to use the same observers and criteria for each lake, so the longitudinal data series does provide interesting insights."
   ]
  },
  {
   "cell_type": "markdown",
   "metadata": {},
   "source": [
    "## Initialization"
   ]
  },
  {
   "cell_type": "markdown",
   "metadata": {},
   "source": [
    "### Load Python Modules"
   ]
  },
  {
   "cell_type": "code",
   "execution_count": 23,
   "metadata": {
    "collapsed": false
   },
   "outputs": [
    {
     "data": {
      "text/html": [
       "<link href='http://fonts.googleapis.com/css?family=Fenix' rel='stylesheet' type='text/css'>\n",
       "<link href='http://fonts.googleapis.com/css?family=Alegreya+Sans:100,300,400,500,700,800,\n",
       "    900,100italic,300italic,400italic,500italic,700italic,800italic,900italic' rel='stylesheet' type='text/css'>\n",
       "<link href='http://fonts.googleapis.com/css?family=Source+Code+Pro:300,400' rel='stylesheet' type='text/css'>\n",
       "<link href='http://fonts.googleapis.com/css?family=Crimson+Text' rel='stylesheet' type='text/css'>\n",
       "<link href='http://fonts.googleapis.com/css?family=Kameron' rel='stylesheet' type='text/css'>\n",
       "<link href='http://fonts.googleapis.com/css?family=Lato:200' rel='stylesheet' type='text/css'>\n",
       "<link href='http://fonts.googleapis.com/css?family=Lato:300' rel='stylesheet' type='text/css'>\n",
       "<link href='http://fonts.googleapis.com/css?family=Lato:400' rel='stylesheet' type='text/css'>\n",
       "<link href='http://fonts.googleapis.com/css?family=Source+Code+Pro' rel='stylesheet' type='text/css'>\n",
       "\n",
       "<style>\n",
       "\n",
       "@font-face {\n",
       "    font-family: \"Computer Modern\";\n",
       "    src: url('http://mirrors.ctan.org/fonts/cm-unicode/fonts/otf/cmunss.otf');\n",
       "}\n",
       "\n",
       "#notebook_panel { /* establish main background and color */\n",
       "    background: #fff;\n",
       "    color: #ff0000;\n",
       "}\n",
       "\n",
       "div.cell { /* set cell width */\n",
       "    width:800px;\n",
       "    margin-left:0%;\n",
       "    margin-right:auto;\n",
       "}\n",
       "\n",
       "div #notebook { /* centers the content */\n",
       "    background: #fff;\n",
       "    width: 1000px;\n",
       "    margin: auto;\n",
       "    padding-left: 1em;\n",
       "}\n",
       "\n",
       "#notebook li { /* more space between bullet points */\n",
       "    margin-top:0.8em;\n",
       "}\n",
       "\n",
       "/* draw border around running cells */\n",
       "div.cell.border-box-sizing.code_cell.running {\n",
       "    border: 3px solid #111;\n",
       "}\n",
       "\n",
       "/* Put a solid color box around each code cell and its output,\n",
       "     visually linking them together */\n",
       "div.cell.code_cell {\n",
       "    background-color: rgba(171,165,131,0.2);\n",
       "    border-radius: 10px; /* rounded borders */\n",
       "    padding: 1em;\n",
       "    margin-top: 1em;\n",
       "}\n",
       "\n",
       ".CodeMirror {\n",
       "    font-family: \"Source Code Pro\";\n",
       "    font-size: 90%;\n",
       "}\n",
       "\n",
       "div.text_cell_render code {\n",
       "    font-family: \"Source Code Pro\";\n",
       "    font-size: 90%;\n",
       "    color: red;\n",
       "}\n",
       "\n",
       "pre {\n",
       "    font-family: \"Source Code Pro\";\n",
       "    font-size: 90%;\n",
       "}\n",
       "\n",
       "div.text_cell_render { /* rendering of basic text cell */\n",
       "    font-family: 'Alegreya Sans', Computer Modern, \"Helvetica Neue\", Arial, Helvetica, sans-serif;\n",
       "    line-height: 135%;\n",
       "    font-size: 120%;\n",
       "    width:700px;\n",
       "    margin-left:auto;\n",
       "    margin-right:auto;\n",
       "}\n",
       "\n",
       ".text_cell_render h1 {\n",
       "    font-family: 'Alegreya Sans', sans-serif;\n",
       "    font-weight: 300;\n",
       "    font-size: 40pt;\n",
       "    line-height: 100%;\n",
       "    color:#CD2305;\n",
       "    margin-bottom: 0.4em;\n",
       "    margin-top: 0em;\n",
       "    display: block;\n",
       "}\n",
       "\n",
       "h2 {\n",
       "    font-family: 'Fenix', serif;\n",
       "}\n",
       "\n",
       "h3 {\n",
       "    font-family: 'Fenix', serif;\n",
       "    margin-top:12px;\n",
       "    margin-bottom: 3px;\n",
       "}\n",
       "\n",
       "h4 {\n",
       "    font-family: 'Fenix', serif;\n",
       "}\n",
       "\n",
       ".text_cell_render h5 {\n",
       "    font-family: 'Alegreya Sans', sans-serif;\n",
       "    font-weight: 100;\n",
       "    font-size: 16pt;\n",
       "    color: #CD2305;\n",
       "    font-style: italic;\n",
       "    margin-bottom: .5em;\n",
       "    margin-top: 0.5em;\n",
       "    display: block;\n",
       "}\n",
       "\n",
       ".text_cell_render h6 { /*use this for copyright note*/\n",
       "    font-family: 'Alegreya Sans', sans-serif;\n",
       "    font-weight: 400;\n",
       "    font-size: 10pt;\n",
       "    font-style: normal;\n",
       "    line-height: 120%;\n",
       "    margin-bottom: 1px;\n",
       "    margin-top: 1px;\n",
       "}\n",
       "\n",
       ".MathJax, .MathJax_Display  {\n",
       "    font-family: 'Alegreya Sans', sans-serif  !important;\n",
       "    font-size: 90%  !important;\n",
       "    vertical-align: 0px  !important;\n",
       "}\n",
       "\n",
       ".warning{\n",
       "    color: rgb( 240, 20, 20 )\n",
       "}\n",
       "\n",
       "</style>\n",
       "\n",
       "<script>\n",
       "MathJax.Hub.Config({\n",
       "    TeX: {\n",
       "        extensions: [\"AMSmath.js\"]\n",
       "    },\n",
       "    tex2jax: {\n",
       "        inlineMath: [ ['$','$'], [\"\\\\(\",\"\\\\)\"] ],\n",
       "        displayMath: [ ['$$','$$'], [\"\\\\[\",\"\\\\]\"] ],\n",
       "        processEscapes: true\n",
       "    },\n",
       "    displayAlign: 'center', // Change this to 'center' to center equations.\n",
       "    \"HTML-CSS\": {\n",
       "        styles: {'.MathJax_Display': {\"margin\": 4}}\n",
       "    }\n",
       "});\n",
       "</script>\n",
       "\n"
      ],
      "text/plain": [
       "<IPython.core.display.HTML object>"
      ]
     },
     "execution_count": 23,
     "metadata": {},
     "output_type": "execute_result"
    }
   ],
   "source": [
    "# Display graphics inline with the notebook\n",
    "%matplotlib inline\n",
    "\n",
    "# Standard Python modules\n",
    "import numpy as np\n",
    "import matplotlib.pyplot as plt\n",
    "import pandas as pd\n",
    "import os\n",
    "import datetime\n",
    "\n",
    "# Module to enhance matplotlib plotting\n",
    "import seaborn\n",
    "seaborn.set()\n",
    "\n",
    "# Modules to display images and data tables\n",
    "from IPython.display import Image\n",
    "from IPython.core.display import display\n",
    "\n",
    "# Styles\n",
    "from IPython.core.display import HTML\n",
    "HTML(open(\"styles/custom.css\", \"r\").read())"
   ]
  },
  {
   "cell_type": "code",
   "execution_count": 24,
   "metadata": {
    "collapsed": true
   },
   "outputs": [],
   "source": [
    "# Directory where data files are stored\n",
    "dir = \"./data/\""
   ]
  },
  {
   "cell_type": "markdown",
   "metadata": {},
   "source": [
    "## Rainy Lake"
   ]
  },
  {
   "cell_type": "code",
   "execution_count": 25,
   "metadata": {
    "collapsed": false
   },
   "outputs": [
    {
     "data": {
      "text/html": [
       "<div style=\"max-height:1000px;max-width:1500px;overflow:auto;\">\n",
       "<table border=\"1\" class=\"dataframe\">\n",
       "  <thead>\n",
       "    <tr style=\"text-align: right;\">\n",
       "      <th></th>\n",
       "      <th>source</th>\n",
       "      <th>comments</th>\n",
       "    </tr>\n",
       "    <tr>\n",
       "      <th>ice out date</th>\n",
       "      <th></th>\n",
       "      <th></th>\n",
       "    </tr>\n",
       "  </thead>\n",
       "  <tbody>\n",
       "    <tr>\n",
       "      <th>1930-05-03</th>\n",
       "      <td>MNDNR-SCO</td>\n",
       "      <td>NaN</td>\n",
       "    </tr>\n",
       "    <tr>\n",
       "      <th>1931-05-05</th>\n",
       "      <td>MNDNR-SCO</td>\n",
       "      <td>NaN</td>\n",
       "    </tr>\n",
       "    <tr>\n",
       "      <th>1932-05-07</th>\n",
       "      <td>MNDNR-SCO</td>\n",
       "      <td>NaN</td>\n",
       "    </tr>\n",
       "    <tr>\n",
       "      <th>1933-05-06</th>\n",
       "      <td>MNDNR-SCO</td>\n",
       "      <td>NaN</td>\n",
       "    </tr>\n",
       "    <tr>\n",
       "      <th>1934-05-06</th>\n",
       "      <td>MNDNR-SCO</td>\n",
       "      <td>NaN</td>\n",
       "    </tr>\n",
       "  </tbody>\n",
       "</table>\n",
       "</div>"
      ],
      "text/plain": [
       "                 source  comments\n",
       "ice out date                     \n",
       "1930-05-03    MNDNR-SCO       NaN\n",
       "1931-05-05    MNDNR-SCO       NaN\n",
       "1932-05-07    MNDNR-SCO       NaN\n",
       "1933-05-06    MNDNR-SCO       NaN\n",
       "1934-05-06    MNDNR-SCO       NaN"
      ]
     },
     "metadata": {},
     "output_type": "display_data"
    },
    {
     "data": {
      "text/html": [
       "<div style=\"max-height:1000px;max-width:1500px;overflow:auto;\">\n",
       "<table border=\"1\" class=\"dataframe\">\n",
       "  <thead>\n",
       "    <tr style=\"text-align: right;\">\n",
       "      <th></th>\n",
       "      <th>source</th>\n",
       "      <th>comments</th>\n",
       "    </tr>\n",
       "    <tr>\n",
       "      <th>ice out date</th>\n",
       "      <th></th>\n",
       "      <th></th>\n",
       "    </tr>\n",
       "  </thead>\n",
       "  <tbody>\n",
       "    <tr>\n",
       "      <th>2011-05-02</th>\n",
       "      <td>MNDNR-SCO</td>\n",
       "      <td>NaN</td>\n",
       "    </tr>\n",
       "    <tr>\n",
       "      <th>2012-04-06</th>\n",
       "      <td>MNDNR-SCO</td>\n",
       "      <td>NaN</td>\n",
       "    </tr>\n",
       "    <tr>\n",
       "      <th>2013-05-16</th>\n",
       "      <td>MNDNR-SCO</td>\n",
       "      <td>NaN</td>\n",
       "    </tr>\n",
       "    <tr>\n",
       "      <th>2014-05-20</th>\n",
       "      <td>MNDNR-SCO</td>\n",
       "      <td>International Falls Journal</td>\n",
       "    </tr>\n",
       "    <tr>\n",
       "      <th>2015-04-28</th>\n",
       "      <td>MNDNR-SCO</td>\n",
       "      <td>NaN</td>\n",
       "    </tr>\n",
       "  </tbody>\n",
       "</table>\n",
       "</div>"
      ],
      "text/plain": [
       "                 source                     comments\n",
       "ice out date                                        \n",
       "2011-05-02    MNDNR-SCO                          NaN\n",
       "2012-04-06    MNDNR-SCO                          NaN\n",
       "2013-05-16    MNDNR-SCO                          NaN\n",
       "2014-05-20    MNDNR-SCO  International Falls Journal\n",
       "2015-04-28    MNDNR-SCO                          NaN"
      ]
     },
     "metadata": {},
     "output_type": "display_data"
    },
    {
     "data": {
      "text/plain": [
       "\n",
       "-------------------------Summary of Regression Analysis-------------------------\n",
       "\n",
       "Formula: Y ~ <x> + <intercept>\n",
       "\n",
       "Number of Observations:         114\n",
       "Number of Degrees of Freedom:   2\n",
       "\n",
       "R-squared:         0.0582\n",
       "Adj R-squared:     0.0498\n",
       "\n",
       "Rmse:              8.3439\n",
       "\n",
       "F-stat (1, 112):     6.9257, p-value:     0.0097\n",
       "\n",
       "Degrees of Freedom: model 1, resid 112\n",
       "\n",
       "-----------------------Summary of Estimated Coefficients------------------------\n",
       "      Variable       Coef    Std Err     t-stat    p-value    CI 2.5%   CI 97.5%\n",
       "--------------------------------------------------------------------------------\n",
       "             x    -0.0770     0.0292      -2.63     0.0097    -0.1343    -0.0196\n",
       "     intercept   126.9687     1.6808      75.54     0.0000   123.6744   130.2631\n",
       "---------------------------------End of Summary---------------------------------"
      ]
     },
     "metadata": {},
     "output_type": "display_data"
    },
    {
     "data": {
      "image/png": "[encoded data removed]",
      "text/plain": [
       "<matplotlib.figure.Figure at 0x10b966050>"
      ]
     },
     "metadata": {},
     "output_type": "display_data"
    }
   ],
   "source": [
    "# Read .csv file\n",
    "RL_ICEOUT = pd.read_csv(dir + 'IceOut_RL.txt',index_col=0,parse_dates=True,skiprows=0);\n",
    "display(RL_ICEOUT.head())\n",
    "display(RL_ICEOUT.tail())\n",
    "\n",
    "# Determine Trend Line\n",
    "RL_ICEOUT['DOY'] = RL_ICEOUT.index.dayofyear\n",
    "RL_ICEOUT['n'] = pd.Series(range(0, len(RL_ICEOUT)), index=RL_ICEOUT.index)\n",
    "RL_model = pd.ols(x = RL_ICEOUT['n'], y = pd.Series(RL_ICEOUT['DOY']), intercept=True)\n",
    "display(RL_model)\n",
    "\n",
    "# Plot results\n",
    "RL_ICEOUT['Trend'] = RL_model.beta['x']*RL_ICEOUT['n'] + RL_model.beta['intercept']\n",
    "RL_ICEOUT[['DOY','Trend']].plot()\n",
    "plt.title('Rainy Lake Ice Out')\n",
    "plt.ylabel('Day of Year')\n",
    "plt.xlabel('Year')\n",
    "\n",
    "plt.tight_layout()\n",
    "\n",
    "fname = './images/IceOut_RL.png'\n",
    "\n",
    "plt.savefig(fname)\n",
    "!convert $fname -trim $fname"
   ]
  },
  {
   "cell_type": "markdown",
   "metadata": {},
   "source": [
    "The relatively long data series for Rainy Lake provides a statistically signficant trend line. The ice-out day is consistently getting earlier and, at the some time, becoming more variable. Thus in the last few years, Rainy Lake has set earliest ice-out records and nearly broken lastest ice-out records."
   ]
  },
  {
   "cell_type": "markdown",
   "metadata": {},
   "source": [
    "## Kabetogoma Lake"
   ]
  },
  {
   "cell_type": "code",
   "execution_count": 26,
   "metadata": {
    "collapsed": false
   },
   "outputs": [
    {
     "data": {
      "text/html": [
       "<div style=\"max-height:1000px;max-width:1500px;overflow:auto;\">\n",
       "<table border=\"1\" class=\"dataframe\">\n",
       "  <thead>\n",
       "    <tr style=\"text-align: right;\">\n",
       "      <th></th>\n",
       "      <th>source</th>\n",
       "      <th>comments</th>\n",
       "    </tr>\n",
       "    <tr>\n",
       "      <th>ice out date</th>\n",
       "      <th></th>\n",
       "      <th></th>\n",
       "    </tr>\n",
       "  </thead>\n",
       "  <tbody>\n",
       "    <tr>\n",
       "      <th>1984-04-24</th>\n",
       "      <td>MNDNR-SCO</td>\n",
       "      <td>NaN</td>\n",
       "    </tr>\n",
       "    <tr>\n",
       "      <th>1988-05-01</th>\n",
       "      <td>MNDNR-SCO</td>\n",
       "      <td>NaN</td>\n",
       "    </tr>\n",
       "    <tr>\n",
       "      <th>1988-05-01</th>\n",
       "      <td>MNDNR-LAKESDB</td>\n",
       "      <td>Climatology Ice-Out Book statistics</td>\n",
       "    </tr>\n",
       "    <tr>\n",
       "      <th>1989-05-05</th>\n",
       "      <td>MNDNR-SCO</td>\n",
       "      <td>NaN</td>\n",
       "    </tr>\n",
       "    <tr>\n",
       "      <th>1989-05-05</th>\n",
       "      <td>MNDNR-LAKESDB</td>\n",
       "      <td>Climatology Ice-Out Book statistics</td>\n",
       "    </tr>\n",
       "  </tbody>\n",
       "</table>\n",
       "</div>"
      ],
      "text/plain": [
       "                     source                             comments\n",
       "ice out date                                                    \n",
       "1984-04-24        MNDNR-SCO                                  NaN\n",
       "1988-05-01        MNDNR-SCO                                  NaN\n",
       "1988-05-01    MNDNR-LAKESDB  Climatology Ice-Out Book statistics\n",
       "1989-05-05        MNDNR-SCO                                  NaN\n",
       "1989-05-05    MNDNR-LAKESDB  Climatology Ice-Out Book statistics"
      ]
     },
     "metadata": {},
     "output_type": "display_data"
    },
    {
     "data": {
      "text/html": [
       "<div style=\"max-height:1000px;max-width:1500px;overflow:auto;\">\n",
       "<table border=\"1\" class=\"dataframe\">\n",
       "  <thead>\n",
       "    <tr style=\"text-align: right;\">\n",
       "      <th></th>\n",
       "      <th>source</th>\n",
       "      <th>comments</th>\n",
       "    </tr>\n",
       "    <tr>\n",
       "      <th>ice out date</th>\n",
       "      <th></th>\n",
       "      <th></th>\n",
       "    </tr>\n",
       "  </thead>\n",
       "  <tbody>\n",
       "    <tr>\n",
       "      <th>2011-04-30</th>\n",
       "      <td>MNDNR-SCO</td>\n",
       "      <td>NaN</td>\n",
       "    </tr>\n",
       "    <tr>\n",
       "      <th>2012-04-01</th>\n",
       "      <td>MNDNR-SCO</td>\n",
       "      <td>NaN</td>\n",
       "    </tr>\n",
       "    <tr>\n",
       "      <th>2013-05-15</th>\n",
       "      <td>MNDNR-SCO</td>\n",
       "      <td>NaN</td>\n",
       "    </tr>\n",
       "    <tr>\n",
       "      <th>2014-05-14</th>\n",
       "      <td>MNDNR-SCO</td>\n",
       "      <td>National Park Ranger Pilot</td>\n",
       "    </tr>\n",
       "    <tr>\n",
       "      <th>2015-04-17</th>\n",
       "      <td>MNDNR-SCO</td>\n",
       "      <td>local paper and DNR Fisheries</td>\n",
       "    </tr>\n",
       "  </tbody>\n",
       "</table>\n",
       "</div>"
      ],
      "text/plain": [
       "                 source                       comments\n",
       "ice out date                                          \n",
       "2011-04-30    MNDNR-SCO                            NaN\n",
       "2012-04-01    MNDNR-SCO                            NaN\n",
       "2013-05-15    MNDNR-SCO                            NaN\n",
       "2014-05-14    MNDNR-SCO     National Park Ranger Pilot\n",
       "2015-04-17    MNDNR-SCO  local paper and DNR Fisheries"
      ]
     },
     "metadata": {},
     "output_type": "display_data"
    },
    {
     "data": {
      "text/plain": [
       "\n",
       "-------------------------Summary of Regression Analysis-------------------------\n",
       "\n",
       "Formula: Y ~ <x> + <intercept>\n",
       "\n",
       "Number of Observations:         61\n",
       "Number of Degrees of Freedom:   2\n",
       "\n",
       "R-squared:         0.0549\n",
       "Adj R-squared:     0.0389\n",
       "\n",
       "Rmse:              9.5870\n",
       "\n",
       "F-stat (1, 59):     3.4278, p-value:     0.0691\n",
       "\n",
       "Degrees of Freedom: model 1, resid 59\n",
       "\n",
       "-----------------------Summary of Estimated Coefficients------------------------\n",
       "      Variable       Coef    Std Err     t-stat    p-value    CI 2.5%   CI 97.5%\n",
       "--------------------------------------------------------------------------------\n",
       "             x    -0.2182     0.1179      -1.85     0.0691    -0.4492     0.0128\n",
       "     intercept   122.2114     2.2793      53.62     0.0000   117.7440   126.6788\n",
       "---------------------------------End of Summary---------------------------------"
      ]
     },
     "metadata": {},
     "output_type": "display_data"
    },
    {
     "data": {
      "image/png": "[encoded data removed]",
      "text/plain": [
       "<matplotlib.figure.Figure at 0x10c4be410>"
      ]
     },
     "metadata": {},
     "output_type": "display_data"
    }
   ],
   "source": [
    "# Read .csv file\n",
    "KL_ICEOUT = pd.read_csv(dir + 'IceOut_KL.txt',index_col=0,parse_dates=True,skiprows=1);\n",
    "display(KL_ICEOUT.head())\n",
    "display(KL_ICEOUT.tail())\n",
    "\n",
    "# Determine Trend Line\n",
    "KL_ICEOUT['DOY'] = KL_ICEOUT.index.dayofyear\n",
    "KL_ICEOUT['n'] = pd.Series(range(0, len(KL_ICEOUT)), index=KL_ICEOUT.index)\n",
    "KL_model = pd.ols(x = KL_ICEOUT['n'], y = pd.Series(KL_ICEOUT['DOY']), intercept=True)\n",
    "display(KL_model)\n",
    "\n",
    "# Plot results\n",
    "KL_ICEOUT['Trend'] = KL_model.beta['x']*KL_ICEOUT['n'] + KL_model.beta['intercept']\n",
    "KL_ICEOUT[['DOY','Trend']].plot()\n",
    "plt.title('Kabetogoma Lake Ice Out')\n",
    "plt.ylabel('Day of Year')\n",
    "plt.xlabel('Year')\n",
    "\n",
    "plt.tight_layout()\n",
    "\n",
    "fname = './images/IceOut_KL.png'\n",
    "\n",
    "plt.savefig(fname)\n",
    "!convert $fname -trim $fname"
   ]
  },
  {
   "cell_type": "markdown",
   "metadata": {},
   "source": [
    "## Lake of the Woods"
   ]
  },
  {
   "cell_type": "code",
   "execution_count": 27,
   "metadata": {
    "collapsed": false
   },
   "outputs": [
    {
     "data": {
      "text/html": [
       "<div style=\"max-height:1000px;max-width:1500px;overflow:auto;\">\n",
       "<table border=\"1\" class=\"dataframe\">\n",
       "  <thead>\n",
       "    <tr style=\"text-align: right;\">\n",
       "      <th></th>\n",
       "      <th>source</th>\n",
       "      <th>comments</th>\n",
       "    </tr>\n",
       "    <tr>\n",
       "      <th>ice out date</th>\n",
       "      <th></th>\n",
       "      <th></th>\n",
       "    </tr>\n",
       "  </thead>\n",
       "  <tbody>\n",
       "    <tr>\n",
       "      <th>1985-05-02</th>\n",
       "      <td>MNDNR-SCO</td>\n",
       "      <td>NaN</td>\n",
       "    </tr>\n",
       "    <tr>\n",
       "      <th>1988-05-03</th>\n",
       "      <td>MNDNR-LAKESDB</td>\n",
       "      <td>Climatology Ice-Out Book statistics</td>\n",
       "    </tr>\n",
       "    <tr>\n",
       "      <th>1988-05-03</th>\n",
       "      <td>MNDNR-SCO</td>\n",
       "      <td>NaN</td>\n",
       "    </tr>\n",
       "    <tr>\n",
       "      <th>1989-05-05</th>\n",
       "      <td>MNDNR-LAKESDB</td>\n",
       "      <td>Climatology Ice-Out Book statistics</td>\n",
       "    </tr>\n",
       "    <tr>\n",
       "      <th>1989-05-05</th>\n",
       "      <td>MNDNR-SCO</td>\n",
       "      <td>NaN</td>\n",
       "    </tr>\n",
       "  </tbody>\n",
       "</table>\n",
       "</div>"
      ],
      "text/plain": [
       "                     source                             comments\n",
       "ice out date                                                    \n",
       "1985-05-02        MNDNR-SCO                                  NaN\n",
       "1988-05-03    MNDNR-LAKESDB  Climatology Ice-Out Book statistics\n",
       "1988-05-03        MNDNR-SCO                                  NaN\n",
       "1989-05-05    MNDNR-LAKESDB  Climatology Ice-Out Book statistics\n",
       "1989-05-05        MNDNR-SCO                                  NaN"
      ]
     },
     "metadata": {},
     "output_type": "display_data"
    },
    {
     "data": {
      "text/html": [
       "<div style=\"max-height:1000px;max-width:1500px;overflow:auto;\">\n",
       "<table border=\"1\" class=\"dataframe\">\n",
       "  <thead>\n",
       "    <tr style=\"text-align: right;\">\n",
       "      <th></th>\n",
       "      <th>source</th>\n",
       "      <th>comments</th>\n",
       "    </tr>\n",
       "    <tr>\n",
       "      <th>ice out date</th>\n",
       "      <th></th>\n",
       "      <th></th>\n",
       "    </tr>\n",
       "  </thead>\n",
       "  <tbody>\n",
       "    <tr>\n",
       "      <th>2011-05-05</th>\n",
       "      <td>MNDNR-SCO</td>\n",
       "      <td>NaN</td>\n",
       "    </tr>\n",
       "    <tr>\n",
       "      <th>2012-04-08</th>\n",
       "      <td>MNDNR-SCO</td>\n",
       "      <td>NaN</td>\n",
       "    </tr>\n",
       "    <tr>\n",
       "      <th>2013-05-15</th>\n",
       "      <td>MNDNR-SCO</td>\n",
       "      <td>NaN</td>\n",
       "    </tr>\n",
       "    <tr>\n",
       "      <th>2014-05-21</th>\n",
       "      <td>MNDNR-SCO</td>\n",
       "      <td>Lake of the Woods Ice Patrol</td>\n",
       "    </tr>\n",
       "    <tr>\n",
       "      <th>2015-04-30</th>\n",
       "      <td>MNDNR-SCO</td>\n",
       "      <td>satellite and various web cams</td>\n",
       "    </tr>\n",
       "  </tbody>\n",
       "</table>\n",
       "</div>"
      ],
      "text/plain": [
       "                 source                        comments\n",
       "ice out date                                           \n",
       "2011-05-05    MNDNR-SCO                             NaN\n",
       "2012-04-08    MNDNR-SCO                             NaN\n",
       "2013-05-15    MNDNR-SCO                             NaN\n",
       "2014-05-21    MNDNR-SCO    Lake of the Woods Ice Patrol\n",
       "2015-04-30    MNDNR-SCO  satellite and various web cams"
      ]
     },
     "metadata": {},
     "output_type": "display_data"
    },
    {
     "data": {
      "text/plain": [
       "\n",
       "-------------------------Summary of Regression Analysis-------------------------\n",
       "\n",
       "Formula: Y ~ <x> + <intercept>\n",
       "\n",
       "Number of Observations:         60\n",
       "Number of Degrees of Freedom:   2\n",
       "\n",
       "R-squared:         0.0012\n",
       "Adj R-squared:    -0.0160\n",
       "\n",
       "Rmse:              9.2346\n",
       "\n",
       "F-stat (1, 58):     0.0717, p-value:     0.7899\n",
       "\n",
       "Degrees of Freedom: model 1, resid 58\n",
       "\n",
       "-----------------------Summary of Estimated Coefficients------------------------\n",
       "      Variable       Coef    Std Err     t-stat    p-value    CI 2.5%   CI 97.5%\n",
       "--------------------------------------------------------------------------------\n",
       "             x     0.0304     0.1135       0.27     0.7899    -0.1921     0.2529\n",
       "     intercept   120.2213     2.2013      54.61     0.0000   115.9068   124.5357\n",
       "---------------------------------End of Summary---------------------------------"
      ]
     },
     "metadata": {},
     "output_type": "display_data"
    },
    {
     "data": {
      "image/png": "[encoded data removed]",
      "text/plain": [
       "<matplotlib.figure.Figure at 0x10b952a50>"
      ]
     },
     "metadata": {},
     "output_type": "display_data"
    }
   ],
   "source": [
    "# Read .csv file\n",
    "LOW_ICEOUT = pd.read_csv(dir + 'IceOut_LOW.txt',index_col=0,parse_dates=True,skiprows=1);\n",
    "display(LOW_ICEOUT.head())\n",
    "display(LOW_ICEOUT.tail())\n",
    "\n",
    "# Determine Trend Line\n",
    "LOW_ICEOUT['DOY'] = LOW_ICEOUT.index.dayofyear\n",
    "LOW_ICEOUT['n'] = pd.Series(range(0, len(LOW_ICEOUT)), index=LOW_ICEOUT.index)\n",
    "LOW_model = pd.ols(x = LOW_ICEOUT['n'], y = pd.Series(LOW_ICEOUT['DOY']), intercept=True)\n",
    "display(LOW_model)\n",
    "\n",
    "# Plot results\n",
    "LOW_ICEOUT['Trend'] = LOW_model.beta['x']*LOW_ICEOUT['n'] + LOW_model.beta['intercept']\n",
    "LOW_ICEOUT[['DOY','Trend']].plot()\n",
    "plt.title('Lake of the Woods Ice Out')\n",
    "plt.ylabel('Day of Year')\n",
    "plt.xlabel('Year')\n",
    "\n",
    "plt.tight_layout()\n",
    "\n",
    "fname = './images/IceOut_LOW.png'\n",
    "\n",
    "plt.savefig(fname)\n",
    "!convert $fname -trim $fname"
   ]
  }
 ],
 "metadata": {
  "kernelspec": {
   "display_name": "Python 2",
   "language": "python",
   "name": "python2"
  },
  "language_info": {
   "codemirror_mode": {
    "name": "ipython",
    "version": 2
   },
   "file_extension": ".py",
   "mimetype": "text/x-python",
   "name": "python",
   "nbconvert_exporter": "python",
   "pygments_lexer": "ipython2",
   "version": "2.7.9"
  }
 },
 "nbformat": 4,
 "nbformat_minor": 0
}
