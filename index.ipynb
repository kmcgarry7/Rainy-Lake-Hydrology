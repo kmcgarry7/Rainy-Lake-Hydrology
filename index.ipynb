{
 "cells": [
  {
   "cell_type": "markdown",
   "metadata": {},
   "source": [
    "# Rainy Lake Hydrology\n",
    "\n",
    "## Presentations\n",
    "\n",
    "* [Model predictive control strategies for implementing rule curves for the Namakan Reservoir / Rainy Lake Watershed](Watershed Forum 2015/Watershed_Forum_2015_Slides.pdf) presented at the 2015 International Rainy-Lake of the Woods Watershed Forum, March 11-12, 2015, International Falls, MN.\n",
    "* [Why is Rainy Lake so Difficult to Control?](RLPOA Open House 2015 Fort Frances/RLPOA_Open_House_2015_Slides.pdf) presented to the Rainy Lake Property Owners Association, June 18, 2015, La Place Rendez-Vous, Fort Frances, Ontario.\n",
    "*  [Why is Rainy Lake so Difficult to Control?](RLPOA Open House 2015 Thunderbird/RLPOA_Open_House_2015_Slides.pdf) presented to the Rainy Lake Property Owners Association, August 6, 2015, Thunderbird Lodge, International Falls, Minnesota.\n",
    "\n",
    "\n",
    "## Data Import & Cleansing\n",
    "\n",
    "The following notebooks provide links and tools to access relevant level, flow, and precipitation data for an analysis of the hydrology of Rainy Lake. These notebooks 'pickle' relevant data series as Pandas series and dataframes for import into other notebooks. Functions are accessed by running the notebooks in relevant IPython workspace with the `%run -i` command.\n",
    "\n",
    "* [Water Survey of Canada](notebooks/Water_Survey_of_Canada.ipynb) -- read data from the HYDAT data tables stored in CSV format. Create a local HDF cache in the local repository for a given set of flow and level stations.\n",
    "* [Namakan Lake Water Levels](notebooks/Namakan_Lake_Water_Levels.ipynb)\n",
    "* [Rainy Lake Water Levels](notebooks/Rainy_Lake_Water_Levels.ipynb)\n",
    "* [Rainy River Flows](notebooks/Rainy_River_Flows.ipynb)\n",
    "* [Global Historical Climatology Network](notebooks/Global_Historical_Climatology_Network.ipynb)\n",
    "* [Ice Out Dates](notebooks/Ice_Out_Dates.ipynb)\n",
    "* [Rule Curves for Rainy and Namakan Lakes](notebooks/Rule_Curves_for_Rainy_and_Namakan_Lakes.ipynb)\n",
    "* [Stage-Volume Relationships for Rainy and Namakan Lakes](notebooks/Stage-Volume_Relationships.ipynb)\n",
    "\n",
    "## Analysis of Lake Level Behavior 1970-2010\n",
    "\n",
    "* [Predicted Effect of Rule Curve Changes on Rainy River Flows](notebooks/Predicted_Effect_of_Rule_Curve_Changes_on_Rainy_River_Flows.ipynb)\n",
    "* [Changes in Rainy River Flows 1970-2010](notebooks/Changes_in_Rainy_River_Flows_1970-2010.ipynb)\n",
    "* [Namakan and Rainy Lake Water Levels 1970-2010](notebooks/Namakan_and_Rainy_Lake_Water_Levels_1970-2010.ipynb)\n",
    "* [Precipitation at Internatonal Falls 1970-2010](notebooks/Precipitation_at_International_Falls_1970-2010.ipynb)\n",
    "* [Flow Constrictions on Upper Rainy River](notebooks/Flow_Constrictions_on_Upper_Rainy_River.ipynb)\n",
    "\n",
    "## Mitigation through Advanced Control and Optimization ###\n",
    "\n",
    "* [Estimating Rainy Lake Inflows 1971-2010](notebooks/Estimating_Rainy_Lake_Inflows_1971-2010.ipynb)\n",
    "* [Matlab/Simulink Implementation of 2000 Rule Curves] [[.pdf](http://jckantor.github.io/Rainy-Lake-Hydrology/pdf/Rainy_Lake_Simulation_Model.pdf)][[.m](https://github.com/jckantor/Rainy-Lake-Hydrology/blob/master/Rainy_Lake_Simulation_Model_Script.m)][[.mat](http://jckantor.github.io/Rainy-Lake-Hydrology/pdf/Rainy)][[.slx](https://github.com/jckantor/Rainy-Lake-Hydrology/blob/master/Rainy_Lake_Simulation_Model.slx)]\n",
    "* [Ice-Out Predictor](notebooks/Ice_Out_Predictor_for_Rainy_Lake.ipynb)\n",
    "* [Freshet Predictor](notebooks/Freshet_Predictor_for_Rainy_Lake.ipynb)\n",
    "* [Lumped Parameter Model for Lake Dynamics](notebooks/Lumped_Parameter_Model_for_Lake_Dynamics.ipynb)\n",
    "* [Feasibility of Rainy Lake Rule Curves](notebooks/Feasibility_of_Rainy_Lake_Rule_Curves.ipynb)\n",
    "* [Harmonizing Rule Curves to Seasonal Inflow](notebooks/Harmonizing_Rule_Curves_to_Seasonal_Inflows.ipynb)\n",
    "* Feedforward Control for the Dam at International Falls\n",
    "* [Improved Prediction of Inflows (stub)](notebooks/Improved_Prediction_of_Inflows.ipynb)\n",
    "* [Model Predictive Control of Dams at Kettle Falls and International Falls (stub)](notebooks/Model_Predictive_Control_of_Dams_at_Kettle_Falls_and_International_Falls.ipynb)"
   ]
  },
  {
   "cell_type": "code",
   "execution_count": null,
   "metadata": {
    "collapsed": true
   },
   "outputs": [],
   "source": []
  }
 ],
 "metadata": {
  "kernelspec": {
   "display_name": "Python 2",
   "language": "python",
   "name": "python2"
  },
  "language_info": {
   "codemirror_mode": {
    "name": "ipython",
    "version": 2
   },
   "file_extension": ".py",
   "mimetype": "text/x-python",
   "name": "python",
   "nbconvert_exporter": "python",
   "pygments_lexer": "ipython2",
   "version": "2.7.10"
  }
 },
 "nbformat": 4,
 "nbformat_minor": 0
}
