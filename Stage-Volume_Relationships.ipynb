{
 "metadata": {
  "name": "",
  "signature": "sha256:2bb8cd5dcc0bfcac387bc2b78cf89925ef472e385c06fa11345e3799f4e58275"
 },
 "nbformat": 3,
 "nbformat_minor": 0,
 "worksheets": [
  {
   "cells": [
    {
     "cell_type": "heading",
     "level": 1,
     "metadata": {},
     "source": [
      "Stage-Volume Relationships for Rainy and Namakan Lakes"
     ]
    },
    {
     "cell_type": "markdown",
     "metadata": {},
     "source": [
      "Stage-Volume relationships expresses the relationship between lake surface elevation and the amount of water stored in the lake. For most flow and rule curve calculations, the most important feature of the stage-volume relationship is the change in lake volume associated with a change in lake volume.\n",
      "\n",
      "This notebook displays stage-volume relationship data for Rainy Lake and Namakan Reservoir obtained from\n",
      "\n",
      ">Thompson, A.F. (2013). Rainy and Namakan Hydrologic Response Model Documentation. Prepared for the Evaluation of the International Joint Commission 2000 Order for Rainy and Namakan Lakes and Rainy River.\n",
      "\n",
      "The data is fitted to a polynomial function to create a dictionary of interpolation functions \n",
      "\n",
      "```\n",
      "volume[key]()\n",
      "```\n",
      "\n",
      "and differentiated to create a dictionary of area functions \n",
      "\n",
      "```\n",
      "area[key]()\n",
      "```\n",
      "\n",
      "These are pickled and stored in the data directory in files of the same name."
     ]
    },
    {
     "cell_type": "heading",
     "level": 3,
     "metadata": {},
     "source": [
      "Initialization"
     ]
    },
    {
     "cell_type": "markdown",
     "metadata": {},
     "source": [
      "Initilization of the graphics system and computational modules used in this IPython notebook."
     ]
    },
    {
     "cell_type": "code",
     "collapsed": false,
     "input": [
      "# Display graphics inline with the notebook\n",
      "%matplotlib inline\n",
      "\n",
      "# Standard Python modules\n",
      "import numpy as np\n",
      "import matplotlib.pyplot as plt\n",
      "import pandas as pd\n",
      "import os\n",
      "import datetime\n",
      "\n",
      "# Module to enhance matplotlib plotting\n",
      "import seaborn\n",
      "seaborn.set()\n",
      "\n",
      "# Modules to display images and data tables\n",
      "from IPython.display import Image\n",
      "from IPython.core.display import display\n",
      "\n",
      "# Data directory\n",
      "dir = './data/'\n",
      "\n",
      "# Styles\n",
      "from IPython.core.display import HTML\n",
      "HTML(open(\"styles/custom.css\", \"r\").read())\n",
      "\n",
      "# Styles\n",
      "from IPython.core.display import HTML\n",
      "HTML(open(\"styles/custom.css\", \"r\").read())"
     ],
     "language": "python",
     "metadata": {},
     "outputs": [
      {
       "html": [
        "<link href='http://fonts.googleapis.com/css?family=Fenix' rel='stylesheet' type='text/css'>\n",
        "<link href='http://fonts.googleapis.com/css?family=Alegreya+Sans:100,300,400,500,700,800,\n",
        "    900,100italic,300italic,400italic,500italic,700italic,800italic,900italic' rel='stylesheet' type='text/css'>\n",
        "<link href='http://fonts.googleapis.com/css?family=Source+Code+Pro:300,400' rel='stylesheet' type='text/css'>\n",
        "<link href='http://fonts.googleapis.com/css?family=Crimson+Text' rel='stylesheet' type='text/css'>\n",
        "<link href='http://fonts.googleapis.com/css?family=Kameron' rel='stylesheet' type='text/css'>\n",
        "<link href='http://fonts.googleapis.com/css?family=Lato:200' rel='stylesheet' type='text/css'>\n",
        "<link href='http://fonts.googleapis.com/css?family=Lato:300' rel='stylesheet' type='text/css'>\n",
        "<link href='http://fonts.googleapis.com/css?family=Lato:400' rel='stylesheet' type='text/css'>\n",
        "<link href='http://fonts.googleapis.com/css?family=Source+Code+Pro' rel='stylesheet' type='text/css'>\n",
        "\n",
        "<style>\n",
        "\n",
        "@font-face {\n",
        "    font-family: \"Computer Modern\";\n",
        "    src: url('http://mirrors.ctan.org/fonts/cm-unicode/fonts/otf/cmunss.otf');\n",
        "}\n",
        "\n",
        "#notebook_panel { /* establish main background and color */\n",
        "    background: #fff;\n",
        "    color: #ff0000;\n",
        "}\n",
        "\n",
        "div.cell { /* set cell width */\n",
        "    width:800px;\n",
        "    margin-left:0%;\n",
        "    margin-right:auto;\n",
        "}\n",
        "\n",
        "div #notebook { /* centers the content */\n",
        "    background: #fff;\n",
        "    width: 1000px;\n",
        "    margin: auto;\n",
        "    padding-left: 1em;\n",
        "}\n",
        "\n",
        "#notebook li { /* more space between bullet points */\n",
        "    margin-top:0.8em;\n",
        "}\n",
        "\n",
        "/* draw border around running cells */\n",
        "div.cell.border-box-sizing.code_cell.running {\n",
        "    border: 3px solid #111;\n",
        "}\n",
        "\n",
        "/* Put a solid color box around each code cell and its output,\n",
        "     visually linking them together */\n",
        "div.cell.code_cell {\n",
        "    background-color: rgba(171,165,131,0.2);\n",
        "    border-radius: 10px; /* rounded borders */\n",
        "    padding: 1em;\n",
        "    margin-top: 1em;\n",
        "}\n",
        "\n",
        ".CodeMirror {\n",
        "    font-family: \"Source Code Pro\";\n",
        "    font-size: 90%;\n",
        "}\n",
        "\n",
        "div.text_cell_render code {\n",
        "    font-family: \"Source Code Pro\";\n",
        "    font-size: 90%;\n",
        "    color: red;\n",
        "}\n",
        "\n",
        "pre {\n",
        "    font-family: \"Source Code Pro\";\n",
        "    font-size: 90%;\n",
        "}\n",
        "\n",
        "div.text_cell_render { /* rendering of basic text cell */\n",
        "    font-family: 'Alegreya Sans', Computer Modern, \"Helvetica Neue\", Arial, Helvetica, sans-serif;\n",
        "    line-height: 135%;\n",
        "    font-size: 120%;\n",
        "    width:700px;\n",
        "    margin-left:auto;\n",
        "    margin-right:auto;\n",
        "}\n",
        "\n",
        ".text_cell_render h1 {\n",
        "    font-family: 'Alegreya Sans', sans-serif;\n",
        "    font-weight: 300;\n",
        "    font-size: 40pt;\n",
        "    line-height: 100%;\n",
        "    color:#CD2305;\n",
        "    margin-bottom: 0.4em;\n",
        "    margin-top: 0em;\n",
        "    display: block;\n",
        "}\n",
        "\n",
        "h2 {\n",
        "    font-family: 'Fenix', serif;\n",
        "}\n",
        "\n",
        "h3 {\n",
        "    font-family: 'Fenix', serif;\n",
        "    margin-top:12px;\n",
        "    margin-bottom: 3px;\n",
        "}\n",
        "\n",
        "h4 {\n",
        "    font-family: 'Fenix', serif;\n",
        "}\n",
        "\n",
        ".text_cell_render h5 {\n",
        "    font-family: 'Alegreya Sans', sans-serif;\n",
        "    font-weight: 100;\n",
        "    font-size: 16pt;\n",
        "    color: #CD2305;\n",
        "    font-style: italic;\n",
        "    margin-bottom: .5em;\n",
        "    margin-top: 0.5em;\n",
        "    display: block;\n",
        "}\n",
        "\n",
        ".text_cell_render h6 { /*use this for copyright note*/\n",
        "    font-family: 'Alegreya Sans', sans-serif;\n",
        "    font-weight: 400;\n",
        "    font-size: 10pt;\n",
        "    font-style: normal;\n",
        "    line-height: 120%;\n",
        "    margin-bottom: 1px;\n",
        "    margin-top: 1px;\n",
        "}\n",
        "\n",
        ".MathJax, .MathJax_Display  {\n",
        "    font-family: 'Alegreya Sans', sans-serif  !important;\n",
        "    font-size: 90%  !important;\n",
        "    vertical-align: 0px  !important;\n",
        "}\n",
        "\n",
        ".warning{\n",
        "    color: rgb( 240, 20, 20 )\n",
        "}\n",
        "\n",
        "</style>\n",
        "\n",
        "<script>\n",
        "MathJax.Hub.Config({\n",
        "    TeX: {\n",
        "        extensions: [\"AMSmath.js\"]\n",
        "    },\n",
        "    tex2jax: {\n",
        "        inlineMath: [ ['$','$'], [\"\\\\(\",\"\\\\)\"] ],\n",
        "        displayMath: [ ['$$','$$'], [\"\\\\[\",\"\\\\]\"] ],\n",
        "        processEscapes: true\n",
        "    },\n",
        "    displayAlign: 'center', // Change this to 'center' to center equations.\n",
        "    \"HTML-CSS\": {\n",
        "        styles: {'.MathJax_Display': {\"margin\": 4}}\n",
        "    }\n",
        "});\n",
        "</script>\n",
        "\n"
       ],
       "metadata": {},
       "output_type": "pyout",
       "prompt_number": 1,
       "text": [
        "<IPython.core.display.HTML at 0x10ba20f90>"
       ]
      }
     ],
     "prompt_number": 1
    },
    {
     "cell_type": "heading",
     "level": 2,
     "metadata": {},
     "source": [
      "Stage-Volume Data"
     ]
    },
    {
     "cell_type": "markdown",
     "metadata": {},
     "source": [
      "The following data is extracted from Tables 1 and 2 of the Thompson report. The data is stored in a dictionary constructed as key, dataframe pairs."
     ]
    },
    {
     "cell_type": "code",
     "collapsed": false,
     "input": [
      "data = {}\n",
      "\n",
      "data['Rainy Lake'] = pd.DataFrame(\n",
      "        [[335.0,  112.67],\n",
      "        [336.0,  798.00],\n",
      "        [336.5, 1176.42],\n",
      "        [337.0, 1577.25],\n",
      "        [337.5, 2002.06],\n",
      "        [338.0, 2450.57],\n",
      "        [339.0, 3416.85],\n",
      "        [340.0, 4458.97]],\n",
      "    columns = ['stage','volume'])\n",
      "\n",
      "data['Namakan Reservoir'] = pd.DataFrame(\n",
      "        [[337.0,  65.33],\n",
      "        [338.0,  259.95],\n",
      "        [338.5,  364.20],\n",
      "        [339.0,  475.58],\n",
      "        [339.5,  592.46],\n",
      "        [340.0,  712.28],\n",
      "        [340.5,  836.56],\n",
      "        [341.0,  966.17],\n",
      "        [341.5, 1099.79],\n",
      "        [342.0, 1239.68],\n",
      "        [343.0, 1540.75]],\n",
      "    columns = ['stage','volume'])"
     ],
     "language": "python",
     "metadata": {},
     "outputs": [],
     "prompt_number": 2
    },
    {
     "cell_type": "markdown",
     "metadata": {},
     "source": [
      "Everything from this point on should be automatic and require no editing."
     ]
    },
    {
     "cell_type": "code",
     "collapsed": false,
     "input": [
      "import matplotlib.cm as cm\n",
      "colors = dict(zip(data.keys(),cm.rainbow(np.linspace(0, 1, len(data)))))\n",
      "\n",
      "axes = plt.subplot()\n",
      "plt.hold(True)\n",
      "for key in data.keys():\n",
      "    data[key].plot(\n",
      "        x = 'stage', \n",
      "        y = 'volume', \n",
      "        kind='scatter', \n",
      "        color = colors[key],\n",
      "        s=50, marker='d', \n",
      "        ax = axes)\n",
      "plt.hold(False)\n",
      "\n",
      "plt.xlabel('Stage [m]')\n",
      "plt.ylabel('Volume [million m^3]')\n",
      "plt.title('Stage-Volume Relationship')\n",
      "plt.legend(data.keys())\n",
      "plt.xlim([334,344])\n",
      "plt.ylim([0,5000]);"
     ],
     "language": "python",
     "metadata": {},
     "outputs": [
      {
       "metadata": {},
       "output_type": "display_data",
       "png": "[encoded data removed]",
       "text": [
        "<matplotlib.figure.Figure at 0x10ba5d090>"
       ]
      }
     ],
     "prompt_number": 3
    },
    {
     "cell_type": "heading",
     "level": 2,
     "metadata": {},
     "source": [
      "Fitting the Stage-Volume Relationship to a Function"
     ]
    },
    {
     "cell_type": "markdown",
     "metadata": {},
     "source": [
      "Numpy provides functions to fit data to a polynomial of arbitrary degree, and to create a 1d interpolation based on the result."
     ]
    },
    {
     "cell_type": "code",
     "collapsed": false,
     "input": [
      "volume = {}\n",
      "\n",
      "for key in data.keys():\n",
      "    volume[key] =  np.poly1d(np.polyfit(data[key]['stage'],data[key]['volume'],2))\n",
      "    print \"\\n\",key,\"\\n\",volume[key]"
     ],
     "language": "python",
     "metadata": {},
     "outputs": [
      {
       "output_type": "stream",
       "stream": "stdout",
       "text": [
        "\n",
        "Rainy Lake \n",
        "       2\n",
        "45.37 x - 2.975e+04 x + 4.876e+06\n",
        "\n",
        "Namakan Reservoir \n",
        "       2\n",
        "10.14 x - 6653 x + 1.09e+06\n"
       ]
      }
     ],
     "prompt_number": 4
    },
    {
     "cell_type": "code",
     "collapsed": false,
     "input": [
      "axes = plt.subplot()\n",
      "plt.hold(True)\n",
      "for key in data.keys():\n",
      "    data[key].plot(\n",
      "        x = 'stage', \n",
      "        y = 'volume', \n",
      "        kind='scatter', \n",
      "        color = colors[key],\n",
      "        s=50, marker='d', \n",
      "        ax = axes)\n",
      "    h = np.linspace(data[key]['stage'].min(),data[key]['stage'].max())\n",
      "    plt.plot(h,volume[key](h),color=colors[key])\n",
      "plt.hold(False)\n",
      "\n",
      "plt.xlabel('Stage [m]')\n",
      "plt.ylabel('Volume [million m^3]')\n",
      "plt.title('Stage-Volume Relationship')\n",
      "plt.legend(data.keys())\n",
      "plt.xlim([334,344])\n",
      "plt.ylim([0,5000]);\n",
      "\n",
      "plt.savefig('images/Stage-Volume.png')"
     ],
     "language": "python",
     "metadata": {},
     "outputs": [
      {
       "metadata": {},
       "output_type": "display_data",
       "png": "[encoded data removed]",
       "text": [
        "<matplotlib.figure.Figure at 0x10bdbe990>"
       ]
      }
     ],
     "prompt_number": 6
    },
    {
     "cell_type": "heading",
     "level": 2,
     "metadata": {},
     "source": [
      "Stage-Area Relationships"
     ]
    },
    {
     "cell_type": "markdown",
     "metadata": {},
     "source": [
      "The stage-area relationship expresses the dependence of lake area on lake elevation. "
     ]
    },
    {
     "cell_type": "code",
     "collapsed": false,
     "input": [
      "area = {}\n",
      "for key in data.keys():\n",
      "    area[key] = volume[key].deriv()\n",
      "    print \"\\n\",key,\"\\n\",area[key]"
     ],
     "language": "python",
     "metadata": {},
     "outputs": [
      {
       "output_type": "stream",
       "stream": "stdout",
       "text": [
        "\n",
        "Rainy Lake \n",
        " \n",
        "90.73 x - 2.975e+04\n",
        "\n",
        "Namakan Reservoir \n",
        " \n",
        "20.29 x - 6653\n"
       ]
      }
     ],
     "prompt_number": 7
    },
    {
     "cell_type": "code",
     "collapsed": false,
     "input": [
      "axes = plt.subplot()\n",
      "plt.hold(True)\n",
      "for key in data.keys():\n",
      "    h = np.linspace(data[key]['stage'].min(),data[key]['stage'].max())\n",
      "    plt.plot(h,area[key](h),color=colors[key])\n",
      "plt.hold(False)\n",
      "\n",
      "plt.xlabel('Stage [m]')\n",
      "plt.ylabel('Area [km^2]')\n",
      "plt.title('Stage-Area Relationship')\n",
      "plt.legend(data.keys())\n",
      "plt.xlim([334,344])"
     ],
     "language": "python",
     "metadata": {},
     "outputs": [
      {
       "metadata": {},
       "output_type": "pyout",
       "prompt_number": 8,
       "text": [
        "(334, 344)"
       ]
      },
      {
       "metadata": {},
       "output_type": "display_data",
       "png": "[encoded data removed]",
       "text": [
        "<matplotlib.figure.Figure at 0x10bd2c410>"
       ]
      }
     ],
     "prompt_number": 8
    },
    {
     "cell_type": "heading",
     "level": 2,
     "metadata": {},
     "source": [
      "Save Results"
     ]
    },
    {
     "cell_type": "code",
     "collapsed": false,
     "input": [
      "import pickle\n",
      "\n",
      "file = open('data/area.pkl', 'w')  \n",
      "pickle.dump(area, file)\n",
      "file.close()\n",
      "\n",
      "file = open('data/volume.pkl', 'w')  \n",
      "pickle.dump(volume, file)\n",
      "file.close()"
     ],
     "language": "python",
     "metadata": {},
     "outputs": [],
     "prompt_number": 16
    },
    {
     "cell_type": "code",
     "collapsed": false,
     "input": [
      "file = open('data/area.pkl', 'r')  \n",
      "area = pickle.load(file)\n",
      "file.close()\n",
      "\n",
      "file = open('data/volume.pkl', 'r')  \n",
      "volume = pickle.load(file)\n",
      "file.close()\n"
     ],
     "language": "python",
     "metadata": {},
     "outputs": [],
     "prompt_number": 17
    },
    {
     "cell_type": "code",
     "collapsed": false,
     "input": [],
     "language": "python",
     "metadata": {},
     "outputs": []
    }
   ],
   "metadata": {}
  }
 ]
}