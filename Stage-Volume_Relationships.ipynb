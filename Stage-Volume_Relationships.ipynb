{
 "metadata": {
  "name": "",
  "signature": "sha256:2b3ed2dc3aeb0497bf98527d6d5ed0a13e572e5b046c1aa099ee80a5f5f14a26"
 },
 "nbformat": 3,
 "nbformat_minor": 0,
 "worksheets": [
  {
   "cells": [
    {
     "cell_type": "heading",
     "level": 1,
     "metadata": {},
     "source": [
      "Stage-Volume Relationships for Rainy and Namakan Lakes"
     ]
    },
    {
     "cell_type": "markdown",
     "metadata": {},
     "source": [
      "The purpose of this notebook is to create a data "
     ]
    },
    {
     "cell_type": "heading",
     "level": 3,
     "metadata": {},
     "source": [
      "Initialization"
     ]
    },
    {
     "cell_type": "markdown",
     "metadata": {},
     "source": [
      "Initilization of the graphics system and computational modules used in this IPython notebook."
     ]
    },
    {
     "cell_type": "code",
     "collapsed": false,
     "input": [
      "# Display graphics inline with the notebook\n",
      "%matplotlib inline\n",
      "\n",
      "# Standard Python modules\n",
      "import numpy as np\n",
      "import matplotlib.pyplot as plt\n",
      "import pandas as pd\n",
      "import os\n",
      "import datetime\n",
      "\n",
      "# Module to enhance matplotlib plotting\n",
      "import seaborn\n",
      "seaborn.set()\n",
      "\n",
      "# Modules to display images and data tables\n",
      "from IPython.display import Image\n",
      "from IPython.core.display import display\n",
      "\n",
      "# Data directory\n",
      "dir = './data/'\n",
      "\n",
      "# Styles\n",
      "from IPython.core.display import HTML\n",
      "HTML(open(\"styles/custom.css\", \"r\").read())\n",
      "\n",
      "# Styles\n",
      "from IPython.core.display import HTML\n",
      "HTML(open(\"styles/custom.css\", \"r\").read())"
     ],
     "language": "python",
     "metadata": {},
     "outputs": [
      {
       "html": [
        "<link href='http://fonts.googleapis.com/css?family=Fenix' rel='stylesheet' type='text/css'>\n",
        "<link href='http://fonts.googleapis.com/css?family=Alegreya+Sans:100,300,400,500,700,800,\n",
        "    900,100italic,300italic,400italic,500italic,700italic,800italic,900italic' rel='stylesheet' type='text/css'>\n",
        "<link href='http://fonts.googleapis.com/css?family=Source+Code+Pro:300,400' rel='stylesheet' type='text/css'>\n",
        "<link href='http://fonts.googleapis.com/css?family=Crimson+Text' rel='stylesheet' type='text/css'>\n",
        "<link href='http://fonts.googleapis.com/css?family=Kameron' rel='stylesheet' type='text/css'>\n",
        "<link href='http://fonts.googleapis.com/css?family=Lato:200' rel='stylesheet' type='text/css'>\n",
        "<link href='http://fonts.googleapis.com/css?family=Lato:300' rel='stylesheet' type='text/css'>\n",
        "<link href='http://fonts.googleapis.com/css?family=Lato:400' rel='stylesheet' type='text/css'>\n",
        "<link href='http://fonts.googleapis.com/css?family=Source+Code+Pro' rel='stylesheet' type='text/css'>\n",
        "\n",
        "<style>\n",
        "\n",
        "@font-face {\n",
        "    font-family: \"Computer Modern\";\n",
        "    src: url('http://mirrors.ctan.org/fonts/cm-unicode/fonts/otf/cmunss.otf');\n",
        "}\n",
        "\n",
        "#notebook_panel { /* establish main background and color */\n",
        "    background: #fff;\n",
        "    color: #ff0000;\n",
        "}\n",
        "\n",
        "div.cell { /* set cell width */\n",
        "    width:800px;\n",
        "    margin-left:0%;\n",
        "    margin-right:auto;\n",
        "}\n",
        "\n",
        "div #notebook { /* centers the content */\n",
        "    background: #fff;\n",
        "    width: 1000px;\n",
        "    margin: auto;\n",
        "    padding-left: 1em;\n",
        "}\n",
        "\n",
        "#notebook li { /* more space between bullet points */\n",
        "    margin-top:0.8em;\n",
        "}\n",
        "\n",
        "/* draw border around running cells */\n",
        "div.cell.border-box-sizing.code_cell.running {\n",
        "    border: 3px solid #111;\n",
        "}\n",
        "\n",
        "/* Put a solid color box around each code cell and its output,\n",
        "     visually linking them together */\n",
        "div.cell.code_cell {\n",
        "    background-color: rgba(171,165,131,0.2);\n",
        "    border-radius: 10px; /* rounded borders */\n",
        "    padding: 1em;\n",
        "    margin-top: 1em;\n",
        "}\n",
        "\n",
        ".CodeMirror {\n",
        "    font-family: \"Source Code Pro\";\n",
        "    font-size: 90%;\n",
        "}\n",
        "\n",
        "div.text_cell_render code {\n",
        "    font-family: \"Source Code Pro\";\n",
        "    font-size: 90%;\n",
        "    color: red;\n",
        "}\n",
        "\n",
        "pre {\n",
        "    font-family: \"Source Code Pro\";\n",
        "    font-size: 90%;\n",
        "}\n",
        "\n",
        "div.text_cell_render { /* rendering of basic text cell */\n",
        "    font-family: 'Alegreya Sans', Computer Modern, \"Helvetica Neue\", Arial, Helvetica, sans-serif;\n",
        "    line-height: 135%;\n",
        "    font-size: 120%;\n",
        "    width:700px;\n",
        "    margin-left:auto;\n",
        "    margin-right:auto;\n",
        "}\n",
        "\n",
        ".text_cell_render h1 {\n",
        "    font-family: 'Alegreya Sans', sans-serif;\n",
        "    font-weight: 300;\n",
        "    font-size: 40pt;\n",
        "    line-height: 100%;\n",
        "    color:#CD2305;\n",
        "    margin-bottom: 0.4em;\n",
        "    margin-top: 0em;\n",
        "    display: block;\n",
        "}\n",
        "\n",
        "h2 {\n",
        "    font-family: 'Fenix', serif;\n",
        "}\n",
        "\n",
        "h3 {\n",
        "    font-family: 'Fenix', serif;\n",
        "    margin-top:12px;\n",
        "    margin-bottom: 3px;\n",
        "}\n",
        "\n",
        "h4 {\n",
        "    font-family: 'Fenix', serif;\n",
        "}\n",
        "\n",
        ".text_cell_render h5 {\n",
        "    font-family: 'Alegreya Sans', sans-serif;\n",
        "    font-weight: 100;\n",
        "    font-size: 16pt;\n",
        "    color: #CD2305;\n",
        "    font-style: italic;\n",
        "    margin-bottom: .5em;\n",
        "    margin-top: 0.5em;\n",
        "    display: block;\n",
        "}\n",
        "\n",
        ".text_cell_render h6 { /*use this for copyright note*/\n",
        "    font-family: 'Alegreya Sans', sans-serif;\n",
        "    font-weight: 400;\n",
        "    font-size: 10pt;\n",
        "    font-style: normal;\n",
        "    line-height: 120%;\n",
        "    margin-bottom: 1px;\n",
        "    margin-top: 1px;\n",
        "}\n",
        "\n",
        ".MathJax, .MathJax_Display  {\n",
        "    font-family: 'Alegreya Sans', sans-serif  !important;\n",
        "    font-size: 90%  !important;\n",
        "    vertical-align: 0px  !important;\n",
        "}\n",
        "\n",
        ".warning{\n",
        "    color: rgb( 240, 20, 20 )\n",
        "}\n",
        "\n",
        "</style>\n",
        "\n",
        "<script>\n",
        "MathJax.Hub.Config({\n",
        "    TeX: {\n",
        "        extensions: [\"AMSmath.js\"]\n",
        "    },\n",
        "    tex2jax: {\n",
        "        inlineMath: [ ['$','$'], [\"\\\\(\",\"\\\\)\"] ],\n",
        "        displayMath: [ ['$$','$$'], [\"\\\\[\",\"\\\\]\"] ],\n",
        "        processEscapes: true\n",
        "    },\n",
        "    displayAlign: 'center', // Change this to 'center' to center equations.\n",
        "    \"HTML-CSS\": {\n",
        "        styles: {'.MathJax_Display': {\"margin\": 4}}\n",
        "    }\n",
        "});\n",
        "</script>\n",
        "\n"
       ],
       "metadata": {},
       "output_type": "pyout",
       "prompt_number": 1,
       "text": [
        "<IPython.core.display.HTML at 0x10bb173d0>"
       ]
      }
     ],
     "prompt_number": 1
    },
    {
     "cell_type": "code",
     "collapsed": false,
     "input": [
      "dataRL = pd.DataFrame(\n",
      "        [[335.0,  112.67],\n",
      "        [336.0,  798.00],\n",
      "        [336.5, 1176.42],\n",
      "        [337.0, 1577.25],\n",
      "        [337.5, 2002.06],\n",
      "        [338.0, 2450.57],\n",
      "        [339.0, 3416.85],\n",
      "        [340.0, 4458.97]],\n",
      "    columns = ['stage','volume'])\n"
     ],
     "language": "python",
     "metadata": {},
     "outputs": [],
     "prompt_number": 22
    },
    {
     "cell_type": "code",
     "collapsed": false,
     "input": [
      "dataNL = pd.DataFrame(\n",
      "        [[337.0,  65.33],\n",
      "        [338.0,  259.95],\n",
      "        [338.5,  364.20],\n",
      "        [339.0,  475.58],\n",
      "        [339.5,  592.46],\n",
      "        [340.0,  712.28],\n",
      "        [340.5,  836.56],\n",
      "        [341.0,  966.17],\n",
      "        [341.5, 1099.79],\n",
      "        [342.0, 1239.68],\n",
      "        [343.0, 1540.75]],\n",
      "    columns = ['stage','volume'])\n"
     ],
     "language": "python",
     "metadata": {},
     "outputs": [],
     "prompt_number": 23
    },
    {
     "cell_type": "code",
     "collapsed": false,
     "input": [
      "volumeRL = np.poly1d(np.polyfit(dataRL['stage'],dataRL['volume'],2))\n",
      "volumeNL = np.poly1d(np.polyfit(dataNL['stage'],dataNL['volume'],2))\n",
      "\n",
      "axes = dataRL.plot(x='stage', y='volume', kind='scatter', s=50, color='b', marker='d')\n",
      "plt.hold(True)\n",
      "\n",
      "hRL = np.linspace(dataRL['stage'].min(),dataRL['stage'].max())\n",
      "plt.plot(hRL,volumeRL(hRL))\n",
      "\n",
      "hNL = np.linspace(dataNL['stage'].min(),dataNL['stage'].max())\n",
      "plt.plot(hNL,volumeNL(hNL))\n",
      "\n",
      "dataNL.plot(x='stage',y='volume', kind='scatter', s=50, color='g', marker='d', ax = axes)\n",
      "\n",
      "plt.hold(False)\n",
      "\n",
      "plt.xlabel('Stage [m]')\n",
      "plt.ylabel('Volume [million m^3]')\n",
      "plt.title('Stage-Volume Relationship')\n",
      "plt.legend(['Rainy Lake','Namakan Reservoir'])\n",
      "plt.xlim([334,344])\n",
      "plt.ylim([0,5000])"
     ],
     "language": "python",
     "metadata": {},
     "outputs": [
      {
       "metadata": {},
       "output_type": "pyout",
       "prompt_number": 40,
       "text": [
        "(0, 5000)"
       ]
      },
      {
       "metadata": {},
       "output_type": "display_data",
       "png": "[encoded data removed]",
       "text": [
        "<matplotlib.figure.Figure at 0x10ca93c10>"
       ]
      }
     ],
     "prompt_number": 40
    },
    {
     "cell_type": "code",
     "collapsed": false,
     "input": [
      "areaRL = volumeRL.deriv()\n",
      "areaNL = volumeNL.deriv()\n",
      "\n",
      "axes = plt.plot(hRL,areaRL(hRL))\n",
      "plt.hold(True)\n",
      "plt.plot(hNL,areaNL(hNL))\n",
      "plt.hold(False)\n",
      "\n",
      "\n",
      "plt.xlabel('Stage [m]')\n",
      "plt.ylabel('Area [km^2]')\n",
      "plt.title('Stage-Area Relationship')\n",
      "plt.legend(['Rainy Lake','Namakan Reservoir'])\n",
      "plt.xlim([334,344])\n",
      "plt.ylim([0,1200])"
     ],
     "language": "python",
     "metadata": {},
     "outputs": [
      {
       "metadata": {},
       "output_type": "pyout",
       "prompt_number": 46,
       "text": [
        "(0, 1200)"
       ]
      },
      {
       "metadata": {},
       "output_type": "display_data",
       "png": "[encoded data removed]",
       "text": [
        "<matplotlib.figure.Figure at 0x10be519d0>"
       ]
      }
     ],
     "prompt_number": 46
    },
    {
     "cell_type": "code",
     "collapsed": false,
     "input": [
      "np.savez('Stage_Volume_Area',\n",
      "         volumeRL = volumeRL,\n",
      "         volumnNL = volumeNL,\n",
      "         areaRL = areaRL,\n",
      "         areaNL = areaNL)"
     ],
     "language": "python",
     "metadata": {},
     "outputs": [],
     "prompt_number": 48
    },
    {
     "cell_type": "code",
     "collapsed": false,
     "input": [
      "n = np.load('test.npz')\n",
      "np.poly1d(n['plyNL'])(340)"
     ],
     "language": "python",
     "metadata": {},
     "outputs": [
      {
       "metadata": {},
       "output_type": "pyout",
       "prompt_number": 20,
       "text": [
        "710.72629370656796"
       ]
      }
     ],
     "prompt_number": 20
    },
    {
     "cell_type": "code",
     "collapsed": false,
     "input": [
      "plyNL"
     ],
     "language": "python",
     "metadata": {},
     "outputs": [
      {
       "ename": "NameError",
       "evalue": "name 'plyNL' is not defined",
       "output_type": "pyerr",
       "traceback": [
        "\u001b[0;31m---------------------------------------------------------------------------\u001b[0m\n\u001b[0;31mNameError\u001b[0m                                 Traceback (most recent call last)",
        "\u001b[0;32m<ipython-input-17-48a15087be36>\u001b[0m in \u001b[0;36m<module>\u001b[0;34m()\u001b[0m\n\u001b[0;32m----> 1\u001b[0;31m \u001b[0mplyNL\u001b[0m\u001b[0;34m\u001b[0m\u001b[0m\n\u001b[0m",
        "\u001b[0;31mNameError\u001b[0m: name 'plyNL' is not defined"
       ]
      }
     ],
     "prompt_number": 17
    },
    {
     "cell_type": "code",
     "collapsed": false,
     "input": [],
     "language": "python",
     "metadata": {},
     "outputs": []
    }
   ],
   "metadata": {}
  }
 ]
}