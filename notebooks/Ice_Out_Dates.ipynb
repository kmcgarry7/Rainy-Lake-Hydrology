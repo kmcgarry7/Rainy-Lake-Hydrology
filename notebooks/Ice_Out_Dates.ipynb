{
 "cells": [
  {
   "cell_type": "markdown",
   "metadata": {},
   "source": [
    "# Ice Out Dates"
   ]
  },
  {
   "cell_type": "markdown",
   "metadata": {},
   "source": [
    "Records of 'ice-out' and 'ice-in' days on selected Minnesota lakes are available from the Minnesota DNR at their web site [Ice Out Dates](http://www.dnr.state.mn.us/ice_out/index.html). The customs for determining ice-out and ice-in vary from lake to lake, so it's difficult to compare across different lakes. The DNR does attempt to use the same observers and criteria for each lake so longitudinal data series can provide useful insights."
   ]
  },
  {
   "cell_type": "markdown",
   "metadata": {},
   "source": [
    "## Initialization"
   ]
  },
  {
   "cell_type": "markdown",
   "metadata": {},
   "source": [
    "### Load Python Modules"
   ]
  },
  {
   "cell_type": "code",
   "execution_count": 15,
   "metadata": {
    "collapsed": false
   },
   "outputs": [],
   "source": [
    "# Display graphics inline with the notebook\n",
    "%matplotlib inline\n",
    "\n",
    "# Standard Python modules\n",
    "import numpy as np\n",
    "import matplotlib.pyplot as plt\n",
    "import pandas as pd\n",
    "import os\n",
    "import datetime\n",
    "\n",
    "# Modules to display images and data tables\n",
    "from IPython.display import Image\n",
    "from IPython.core.display import display"
   ]
  },
  {
   "cell_type": "code",
   "execution_count": 16,
   "metadata": {
    "collapsed": true
   },
   "outputs": [],
   "source": [
    "# Directory where data files are stored\n",
    "dir = \"../data/\"\n",
    "img = \"../images/\""
   ]
  },
  {
   "cell_type": "markdown",
   "metadata": {},
   "source": [
    "## Rainy Lake"
   ]
  },
  {
   "cell_type": "code",
   "execution_count": 17,
   "metadata": {
    "collapsed": false
   },
   "outputs": [
    {
     "data": {
      "text/plain": [
       "\n",
       "-------------------------Summary of Regression Analysis-------------------------\n",
       "\n",
       "Formula: Y ~ <x> + <intercept>\n",
       "\n",
       "Number of Observations:         86\n",
       "Number of Degrees of Freedom:   2\n",
       "\n",
       "R-squared:         0.0553\n",
       "Adj R-squared:     0.0440\n",
       "\n",
       "Rmse:              8.4941\n",
       "\n",
       "F-stat (1, 84):     4.9135, p-value:     0.0294\n",
       "\n",
       "Degrees of Freedom: model 1, resid 84\n",
       "\n",
       "-----------------------Summary of Estimated Coefficients------------------------\n",
       "      Variable       Coef    Std Err     t-stat    p-value    CI 2.5%   CI 97.5%\n",
       "--------------------------------------------------------------------------------\n",
       "             x    -0.0818     0.0369      -2.22     0.0294    -0.1541    -0.0095\n",
       "     intercept   126.9062     1.8160      69.88     0.0000   123.3468   130.4656\n",
       "---------------------------------End of Summary---------------------------------"
      ]
     },
     "metadata": {},
     "output_type": "display_data"
    }
   ],
   "source": [
    "# Read .csv file\n",
    "RL_ICEOUT = pd.read_csv(dir + 'IceOut_RL.txt',index_col=0,parse_dates=True,skiprows=1);\n",
    "\n",
    "# Remove duplicated data\n",
    "RL_ICEOUT = RL_ICEOUT[RL_ICEOUT[' source']=='MNDNR-SCO']\n",
    "\n",
    "# Drop unneeded columns\n",
    "RL_ICEOUT.drop(' source',1,inplace=True)\n",
    "RL_ICEOUT.drop(' comments',1,inplace=True)\n",
    "\n",
    "# Determine Trend Line\n",
    "RL_ICEOUT['DOY'] = RL_ICEOUT.index.dayofyear\n",
    "RL_ICEOUT['n'] = pd.Series(np.arange(0.0, len(RL_ICEOUT)), index=RL_ICEOUT.index)\n",
    "\n",
    "RL_model = pd.ols(x = RL_ICEOUT['n'], y = pd.Series(RL_ICEOUT['DOY']), intercept=True)\n",
    "display(RL_model)"
   ]
  },
  {
   "cell_type": "code",
   "execution_count": 18,
   "metadata": {
    "collapsed": false
   },
   "outputs": [
    {
     "data": {
      "image/png": "[encoded data removed]",
      "text/plain": [
       "<matplotlib.figure.Figure at 0x1194a3b90>"
      ]
     },
     "metadata": {},
     "output_type": "display_data"
    }
   ],
   "source": [
    "# Plot results\n",
    "RL_ICEOUT['Trend'] = RL_model.beta['x']*RL_ICEOUT['n'] + RL_model.beta['intercept']\n",
    "\n",
    "RL_ICEOUT['DOY'].plot()\n",
    "plt.hold(True)\n",
    "RL_ICEOUT['Trend'].plot()\n",
    "plt.hold(False)\n",
    "plt.title('Rainy Lake Ice Out')\n",
    "plt.ylabel('Day of Year')\n",
    "plt.xlabel('Year')\n",
    "\n",
    "rl = plt.gca()\n",
    "\n",
    "plt.tight_layout()\n",
    "\n",
    "fname = '../images/IceOut_RL.png'\n",
    "\n",
    "plt.savefig(fname)\n",
    "!convert $fname -trim $fname"
   ]
  },
  {
   "cell_type": "markdown",
   "metadata": {},
   "source": [
    "The relatively long data series for Rainy Lake provides a statistically signficant trend line. The ice-out day is consistently getting earlier and, at the some time, becoming more variable. Thus in the last few years, Rainy Lake has set earliest ice-out records and nearly broken lastest ice-out records."
   ]
  },
  {
   "cell_type": "markdown",
   "metadata": {},
   "source": [
    "## Kabetogoma Lake"
   ]
  },
  {
   "cell_type": "code",
   "execution_count": 19,
   "metadata": {
    "collapsed": false
   },
   "outputs": [
    {
     "data": {
      "text/plain": [
       "\n",
       "-------------------------Summary of Regression Analysis-------------------------\n",
       "\n",
       "Formula: Y ~ <x> + <intercept>\n",
       "\n",
       "Number of Observations:         28\n",
       "Number of Degrees of Freedom:   2\n",
       "\n",
       "R-squared:         0.0236\n",
       "Adj R-squared:    -0.0140\n",
       "\n",
       "Rmse:             10.9740\n",
       "\n",
       "F-stat (1, 26):     0.6273, p-value:     0.4355\n",
       "\n",
       "Degrees of Freedom: model 1, resid 26\n",
       "\n",
       "-----------------------Summary of Estimated Coefficients------------------------\n",
       "      Variable       Coef    Std Err     t-stat    p-value    CI 2.5%   CI 97.5%\n",
       "--------------------------------------------------------------------------------\n",
       "             x    -0.2033     0.2567      -0.79     0.4355    -0.7066     0.2999\n",
       "     intercept   120.1379     4.0391      29.74     0.0000   112.2213   128.0545\n",
       "---------------------------------End of Summary---------------------------------"
      ]
     },
     "metadata": {},
     "output_type": "display_data"
    }
   ],
   "source": [
    "# Read .csv file\n",
    "KL_ICEOUT = pd.read_csv(dir + 'IceOut_KL.txt',index_col=0,parse_dates=True,skiprows=1)\n",
    "\n",
    "# Remove duplicated data\n",
    "KL_ICEOUT = KL_ICEOUT[KL_ICEOUT[' source']=='MNDNR-SCO']\n",
    "\n",
    "# Drop unneeded columns\n",
    "KL_ICEOUT.drop(' source',1,inplace=True)\n",
    "KL_ICEOUT.drop(' comments',1,inplace=True)\n",
    "\n",
    "# Determine Trend Line\n",
    "KL_ICEOUT['DOY'] = KL_ICEOUT.index.dayofyear\n",
    "KL_ICEOUT['n'] = pd.Series(np.arange(0, len(KL_ICEOUT)), index=KL_ICEOUT.index)\n",
    "KL_model = pd.ols(x = KL_ICEOUT['n'], y = pd.Series(KL_ICEOUT['DOY']), intercept=True)\n",
    "display(KL_model)"
   ]
  },
  {
   "cell_type": "code",
   "execution_count": 20,
   "metadata": {
    "collapsed": false
   },
   "outputs": [
    {
     "data": {
      "image/png": "[encoded data removed]",
      "text/plain": [
       "<matplotlib.figure.Figure at 0x11930e050>"
      ]
     },
     "metadata": {},
     "output_type": "display_data"
    }
   ],
   "source": [
    "# Plot results\n",
    "KL_ICEOUT['Trend'] = KL_model.beta['x']*KL_ICEOUT['n'] + KL_model.beta['intercept']\n",
    "KL_ICEOUT['DOY'].plot()\n",
    "plt.hold(True)\n",
    "KL_ICEOUT['Trend'].plot()\n",
    "plt.hold(False)\n",
    "plt.title('Kabetogoma Lake Ice Out')\n",
    "plt.ylabel('Day of Year')\n",
    "plt.xlabel('Year')\n",
    "plt.axis(rl.axis())\n",
    "\n",
    "plt.tight_layout()\n",
    "\n",
    "fname = img + 'IceOut_KL.png'\n",
    "\n",
    "plt.savefig(fname)\n",
    "!convert $fname -trim $fname"
   ]
  },
  {
   "cell_type": "code",
   "execution_count": 21,
   "metadata": {
    "collapsed": false
   },
   "outputs": [
    {
     "data": {
      "text/plain": [
       "(704675.0, 735716.0, 90.0, 150.0)"
      ]
     },
     "execution_count": 21,
     "metadata": {},
     "output_type": "execute_result"
    }
   ],
   "source": [
    "rl.axis()"
   ]
  },
  {
   "cell_type": "markdown",
   "metadata": {},
   "source": [
    "## Lake of the Woods"
   ]
  },
  {
   "cell_type": "code",
   "execution_count": 22,
   "metadata": {
    "collapsed": false
   },
   "outputs": [
    {
     "data": {
      "text/plain": [
       "\n",
       "-------------------------Summary of Regression Analysis-------------------------\n",
       "\n",
       "Formula: Y ~ <x> + <intercept>\n",
       "\n",
       "Number of Observations:         30\n",
       "Number of Degrees of Freedom:   2\n",
       "\n",
       "R-squared:         0.0145\n",
       "Adj R-squared:    -0.0207\n",
       "\n",
       "Rmse:             10.2995\n",
       "\n",
       "F-stat (1, 28):     0.4112, p-value:     0.5266\n",
       "\n",
       "Degrees of Freedom: model 1, resid 28\n",
       "\n",
       "-----------------------Summary of Estimated Coefficients------------------------\n",
       "      Variable       Coef    Std Err     t-stat    p-value    CI 2.5%   CI 97.5%\n",
       "--------------------------------------------------------------------------------\n",
       "             x     0.1485     0.2315       0.64     0.5266    -0.3053     0.6023\n",
       "     intercept   118.6397     3.7675      31.49     0.0000   111.2554   126.0241\n",
       "---------------------------------End of Summary---------------------------------"
      ]
     },
     "metadata": {},
     "output_type": "display_data"
    }
   ],
   "source": [
    "# Read .csv file\n",
    "LOW_ICEOUT = pd.read_csv(dir + 'IceOut_LOW.txt',index_col=0,parse_dates=True,skiprows=1);\n",
    "\n",
    "# Remove duplicated data\n",
    "LOW_ICEOUT = LOW_ICEOUT[LOW_ICEOUT[' source']=='MNDNR-SCO']\n",
    "\n",
    "# Drop unneeded columns\n",
    "LOW_ICEOUT.drop(' source',1,inplace=True)\n",
    "LOW_ICEOUT.drop(' comments',1,inplace=True)\n",
    "\n",
    "# Determine Trend Line\n",
    "LOW_ICEOUT['DOY'] = LOW_ICEOUT.index.dayofyear\n",
    "LOW_ICEOUT['n'] = pd.Series(np.arange(0, len(LOW_ICEOUT)), index=LOW_ICEOUT.index)\n",
    "LOW_model = pd.ols(x = LOW_ICEOUT['n'], y = pd.Series(LOW_ICEOUT['DOY']), intercept=True)\n",
    "display(LOW_model)"
   ]
  },
  {
   "cell_type": "code",
   "execution_count": 23,
   "metadata": {
    "collapsed": false
   },
   "outputs": [
    {
     "data": {
      "image/png": "[encoded data removed]",
      "text/plain": [
       "<matplotlib.figure.Figure at 0x119439b50>"
      ]
     },
     "metadata": {},
     "output_type": "display_data"
    }
   ],
   "source": [
    "# Plot results\n",
    "LOW_ICEOUT['Trend'] = LOW_model.beta['x']*LOW_ICEOUT['n'] + LOW_model.beta['intercept']\n",
    "LOW_ICEOUT['DOY'].plot()\n",
    "plt.hold(True)\n",
    "LOW_ICEOUT['Trend'].plot()\n",
    "plt.hold(False)\n",
    "           \n",
    "plt.title('Lake of the Woods Ice Out')\n",
    "plt.ylabel('Day of Year')\n",
    "plt.xlabel('Year')\n",
    "plt.axis(rl.axis())\n",
    "\n",
    "plt.tight_layout()\n",
    "\n",
    "fname = img + 'IceOut_LOW.png'\n",
    "\n",
    "plt.savefig(fname)\n",
    "!convert $fname -trim $fname"
   ]
  },
  {
   "cell_type": "code",
   "execution_count": null,
   "metadata": {
    "collapsed": true
   },
   "outputs": [],
   "source": []
  }
 ],
 "metadata": {
  "kernelspec": {
   "display_name": "Python 2",
   "language": "python",
   "name": "python2"
  },
  "language_info": {
   "codemirror_mode": {
    "name": "ipython",
    "version": 2
   },
   "file_extension": ".py",
   "mimetype": "text/x-python",
   "name": "python",
   "nbconvert_exporter": "python",
   "pygments_lexer": "ipython2",
   "version": "2.7.10"
  }
 },
 "nbformat": 4,
 "nbformat_minor": 0
}
